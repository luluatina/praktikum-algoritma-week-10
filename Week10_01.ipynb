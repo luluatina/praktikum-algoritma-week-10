{
  "nbformat": 4,
  "nbformat_minor": 0,
  "metadata": {
    "colab": {
      "provenance": [],
      "authorship_tag": "ABX9TyMwI+CXoXL+lq7iiepgoV+w",
      "include_colab_link": true
    },
    "kernelspec": {
      "name": "python3",
      "display_name": "Python 3"
    },
    "language_info": {
      "name": "python"
    }
  },
  "cells": [
    {
      "cell_type": "markdown",
      "metadata": {
        "id": "view-in-github",
        "colab_type": "text"
      },
      "source": [
        "<a href=\"https://colab.research.google.com/github/luluatina/praktikum-algoritma-week-10/blob/main/Week10_01.ipynb\" target=\"_parent\"><img src=\"https://colab.research.google.com/assets/colab-badge.svg\" alt=\"Open In Colab\"/></a>"
      ]
    },
    {
      "cell_type": "code",
      "execution_count": 1,
      "metadata": {
        "colab": {
          "base_uri": "https://localhost:8080/"
        },
        "id": "eRbLr5L4jaBA",
        "outputId": "8484c373-b04e-4b5c-c243-40ea86624768"
      },
      "outputs": [
        {
          "output_type": "stream",
          "name": "stdout",
          "text": [
            "Masukkan bilangan bulat non-negatif: -8\n",
            "Bilangan Bulat non-negatif Kok NGEYELL!\n",
            "Masukkan bilangan bulat non-negatif: 8\n",
            "Faktorial dari 8 adalah 40320\n"
          ]
        }
      ],
      "source": [
        "# Menghitung nilai faktorial dari suatu bilangan dengan fungsi rekursif\n",
        "\n",
        "def faktorial(n):\n",
        "    if n == 0:\n",
        "        return 1\n",
        "    else:\n",
        "        return n * faktorial(n-1)\n",
        "\n",
        "angka = int(input(\"Masukkan bilangan bulat non-negatif: \"))\n",
        "while angka < 0:\n",
        "    print(\"Bilangan Bulat non-negatif Kok NGEYELL!\")\n",
        "    angka = int(input(\"Masukkan bilangan bulat non-negatif: \"))\n",
        "\n",
        "hasil = faktorial(angka)\n",
        "print(f\"Faktorial dari {angka} adalah {hasil}\")"
      ]
    },
    {
      "cell_type": "code",
      "source": [
        "# Program Kalkulator untuk menghitung luas bangun datar lingkaran, persegi, dan segitiga\n",
        "\n",
        "import math\n",
        "\n",
        "def luas_lingkaran(jari_jari):\n",
        "    return math.pi * jari_jari ** 2\n",
        "\n",
        "def luas_persegi(sisi):\n",
        "    return sisi ** 2\n",
        "\n",
        "def luas_segitiga(alas, tinggi):\n",
        "    return 0.5 * alas * tinggi\n",
        "\n",
        "def main():\n",
        "    while True:\n",
        "        print(\"Program Kalkulator Luas Bangun Datar\")\n",
        "        print(\"Pilih Bangun Datar:\")\n",
        "        print(\"1. Lingkaran\")\n",
        "        print(\"2. Persegi\")\n",
        "        print(\"3. Segitiga\")\n",
        "        print(\"4. Keluar\")\n",
        "\n",
        "        pilihan = input(\"Masukkan pilihan Anda (1/2/3/4): \")\n",
        "\n",
        "        if pilihan == '1':\n",
        "            jari_jari = float(input(\"Masukkan jari-jari lingkaran: \"))\n",
        "            luas = luas_lingkaran(jari_jari)\n",
        "            print(f\"Luas lingkaran dengan jari-jari {jari_jari} adalah {luas}\")\n",
        "\n",
        "        elif pilihan == '2':\n",
        "            sisi = float(input(\"Masukkan sisi persegi: \"))\n",
        "            luas = luas_persegi(sisi)\n",
        "            print(f\"Luas persegi dengan sisi {sisi} adalah {luas}\")\n",
        "\n",
        "        elif pilihan == '3':\n",
        "            alas = float(input(\"Masukkan alas segitiga: \"))\n",
        "            tinggi = float(input(\"Masukkan tinggi segitiga: \"))\n",
        "            luas = luas_segitiga(alas, tinggi)\n",
        "            print(f\"Luas segitiga dengan alas {alas} dan tinggi {tinggi} adalah {luas}\")\n",
        "\n",
        "        elif pilihan == '4':\n",
        "            print(\"Terima kasih telah menggunakan program ini!\")\n",
        "            break\n",
        "\n",
        "        else:\n",
        "            print(\"Pilihan tidak valid. Silakan coba lagi.\")\n",
        "\n",
        "if __name__ == \"__main__\":\n",
        "    main()"
      ],
      "metadata": {
        "colab": {
          "base_uri": "https://localhost:8080/"
        },
        "id": "AMO6YHB8owMF",
        "outputId": "998610ff-97d0-4788-fe57-1e39707fca30"
      },
      "execution_count": null,
      "outputs": [
        {
          "output_type": "stream",
          "name": "stdout",
          "text": [
            "Program Kalkulator Luas Bangun Datar\n",
            "Pilih Bangun Datar:\n",
            "1. Lingkaran\n",
            "2. Persegi\n",
            "3. Segitiga\n",
            "4. Keluar\n",
            "Masukkan pilihan Anda (1/2/3/4): 2\n",
            "Masukkan sisi persegi: 9\n",
            "Luas persegi dengan sisi 9.0 adalah 81.0\n",
            "Program Kalkulator Luas Bangun Datar\n",
            "Pilih Bangun Datar:\n",
            "1. Lingkaran\n",
            "2. Persegi\n",
            "3. Segitiga\n",
            "4. Keluar\n",
            "Masukkan pilihan Anda (1/2/3/4): 4\n",
            "Terima kasih telah menggunakan program ini!\n"
          ]
        }
      ]
    }
  ]
}